{
  "cells": [
    {
      "cell_type": "code",
      "source": [
        "!pip install streamlit -q"
      ],
      "metadata": {
        "colab": {
          "base_uri": "https://localhost:8080/"
        },
        "id": "jduXscKL8ff_",
        "outputId": "6d79a3c4-d186-484b-81e8-4643773ebbf7"
      },
      "execution_count": 190,
      "outputs": [
        {
          "output_type": "stream",
          "name": "stdout",
          "text": [
            "\u001b[K     |████████████████████████████████| 10.1 MB 3.6 MB/s \n",
            "\u001b[K     |████████████████████████████████| 4.3 MB 36.7 MB/s \n",
            "\u001b[K     |████████████████████████████████| 77 kB 4.2 MB/s \n",
            "\u001b[K     |████████████████████████████████| 164 kB 58.3 MB/s \n",
            "\u001b[K     |████████████████████████████████| 181 kB 34.0 MB/s \n",
            "\u001b[K     |████████████████████████████████| 111 kB 41.6 MB/s \n",
            "\u001b[K     |████████████████████████████████| 63 kB 1.4 MB/s \n",
            "\u001b[K     |████████████████████████████████| 131 kB 45.8 MB/s \n",
            "\u001b[K     |████████████████████████████████| 130 kB 37.2 MB/s \n",
            "\u001b[K     |████████████████████████████████| 793 kB 61.6 MB/s \n",
            "\u001b[K     |████████████████████████████████| 428 kB 45.2 MB/s \n",
            "\u001b[K     |████████████████████████████████| 381 kB 39.0 MB/s \n",
            "\u001b[?25h  Building wheel for blinker (setup.py) ... \u001b[?25l\u001b[?25hdone\n",
            "  Building wheel for validators (setup.py) ... \u001b[?25l\u001b[?25hdone\n",
            "\u001b[31mERROR: pip's dependency resolver does not currently take into account all the packages that are installed. This behaviour is the source of the following dependency conflicts.\n",
            "jupyter-console 5.2.0 requires prompt-toolkit<2.0.0,>=1.0.0, but you have prompt-toolkit 3.0.29 which is incompatible.\n",
            "google-colab 1.0.0 requires ipykernel~=4.10, but you have ipykernel 6.13.0 which is incompatible.\n",
            "google-colab 1.0.0 requires ipython~=5.5.0, but you have ipython 7.33.0 which is incompatible.\n",
            "google-colab 1.0.0 requires tornado~=5.1.0; python_version >= \"3.0\", but you have tornado 6.1 which is incompatible.\u001b[0m\n"
          ]
        }
      ]
    },
    {
      "cell_type": "code",
      "source": [
        "# import streamlit as st\n",
        "# import streamlit.components.v1 as components\n",
        "\n",
        "# # Connectiong to the Google Drive for the permanent storage\n",
        "# from google.colab import drive\n",
        "# drive.mount('/content/drive')\n",
        "\n",
        "# # >>> import plotly.express as px\n",
        "# # >>> fig = px.box(range(10))\n",
        "# # >>> fig.write_html('test.html')\n",
        "\n",
        "# st.header(\"test html import\")\n",
        "\n",
        "# HtmlFile = open(\"/content/drive/MyDrive/MNIST/templetes/index.html\", 'r', encoding='utf-8')\n",
        "# source_code = HtmlFile.read() \n",
        "# print(source_code)\n",
        "# components.html(source_code)"
      ],
      "metadata": {
        "id": "Q9jdwXqvQfRO"
      },
      "execution_count": null,
      "outputs": []
    },
    {
      "cell_type": "code",
      "source": [
        "%%writefile app.py\n",
        "\n",
        "f = open('app.html','w')\n",
        "\n",
        "message = \"\"\"<html>\n",
        "<head></head>\n",
        "<body><p>Hello World!</p></body>\n",
        "</html>\"\"\"\n",
        "\n",
        "f.write(message)\n",
        "f.close()\n",
        "\n"
      ],
      "metadata": {
        "colab": {
          "base_uri": "https://localhost:8080/"
        },
        "id": "fbtKwn3VJxrJ",
        "outputId": "1400a1bf-2505-4533-af7e-ddbfeade7829"
      },
      "execution_count": 208,
      "outputs": [
        {
          "output_type": "stream",
          "name": "stdout",
          "text": [
            "Overwriting app.py\n"
          ]
        }
      ]
    },
    {
      "cell_type": "code",
      "source": [
        "# <!DOCTYPE html>\n",
        "# <html>\n",
        "# <body>\n",
        "\n",
        "# <h1>Machine Learning Semester Project</h1>\n",
        "\n",
        "# <form >\n",
        "#     <input class=\"file-upload-input\" type=\"file\" onchange=\"readURL(this)\" accept=\"Image\"><br><br>\n",
        "#     <input type=\"submit\" value=\"Make Prdiction\">\n",
        "# </form>\n",
        "\n",
        "\n",
        "# </body>\n",
        "# </html>\n"
      ],
      "metadata": {
        "id": "vyl4dT8hRCSk"
      },
      "execution_count": null,
      "outputs": []
    },
    {
      "cell_type": "code",
      "source": [
        "! streamlit run app.html & npx localtunnel --port 8501"
      ],
      "metadata": {
        "colab": {
          "base_uri": "https://localhost:8080/"
        },
        "id": "22qzls3P8fcf",
        "outputId": "d3a516ce-b80d-441f-ab54-259d4064414d"
      },
      "execution_count": 210,
      "outputs": [
        {
          "output_type": "stream",
          "name": "stdout",
          "text": [
            "2022-05-22 10:18:06.943 INFO    numexpr.utils: NumExpr defaulting to 2 threads.\n",
            "Usage: streamlit run [OPTIONS] TARGET [ARGS]...\n",
            "\n",
            "Error: Streamlit requires raw Python (.py) files, not .html.\n",
            "For more information, please see https://docs.streamlit.io\n",
            "\u001b[K\u001b[?25hnpx: installed 22 in 3.924s\n",
            "your url is: https://plain-carrots-know-35-236-176-175.loca.lt\n",
            "^C\n"
          ]
        }
      ]
    },
    {
      "cell_type": "code",
      "source": [
        ""
      ],
      "metadata": {
        "id": "nX2u9Q_B8faQ"
      },
      "execution_count": 189,
      "outputs": []
    },
    {
      "cell_type": "code",
      "source": [
        ""
      ],
      "metadata": {
        "id": "hVANNgSW8fXu"
      },
      "execution_count": 189,
      "outputs": []
    },
    {
      "cell_type": "code",
      "source": [
        ""
      ],
      "metadata": {
        "id": "JtM3NP2F8fVZ"
      },
      "execution_count": 189,
      "outputs": []
    },
    {
      "cell_type": "code",
      "source": [
        ""
      ],
      "metadata": {
        "id": "IpCom_6g8fSx"
      },
      "execution_count": null,
      "outputs": []
    },
    {
      "cell_type": "code",
      "source": [
        ""
      ],
      "metadata": {
        "id": "418MugWx8fQC"
      },
      "execution_count": null,
      "outputs": []
    },
    {
      "cell_type": "code",
      "source": [
        ""
      ],
      "metadata": {
        "id": "JvbMERpM8fNN"
      },
      "execution_count": null,
      "outputs": []
    },
    {
      "cell_type": "code",
      "source": [
        ""
      ],
      "metadata": {
        "id": "OxDEnW1K8fCf"
      },
      "execution_count": null,
      "outputs": []
    },
    {
      "cell_type": "code",
      "source": [
        "# Connectiong to the Google Drive for the permanent storage\n",
        "from google.colab import drive\n",
        "drive.mount('/content/drive')"
      ],
      "metadata": {
        "colab": {
          "base_uri": "https://localhost:8080/"
        },
        "id": "9rze4z0EW6pn",
        "outputId": "9645428d-c4fc-49e8-fa84-7e257d213ead"
      },
      "execution_count": 1,
      "outputs": [
        {
          "output_type": "stream",
          "name": "stdout",
          "text": [
            "Mounted at /content/drive\n"
          ]
        }
      ]
    },
    {
      "cell_type": "code",
      "source": [
        "# Checking if the correct version of tensorflow in installed or not \n",
        "import tensorflow as tf\n",
        "print(\"TensorFlow version:\", tf.__version__)"
      ],
      "metadata": {
        "colab": {
          "base_uri": "https://localhost:8080/"
        },
        "id": "KAaGKC_TDwKg",
        "outputId": "a254665b-e88f-4d83-f900-2643427b50d0"
      },
      "execution_count": 93,
      "outputs": [
        {
          "output_type": "stream",
          "name": "stdout",
          "text": [
            "TensorFlow version: 2.8.0\n"
          ]
        }
      ]
    },
    {
      "cell_type": "code",
      "execution_count": 94,
      "metadata": {
        "collapsed": true,
        "id": "UgxzhmJwDfqM"
      },
      "outputs": [],
      "source": [
        "from numpy.random import seed\n",
        "seed(786)\n",
        "# Tensor flow for the fast calculation or computation\n",
        "import tensorflow\n",
        "tensorflow.random.set_seed(786)"
      ]
    },
    {
      "cell_type": "code",
      "execution_count": 95,
      "metadata": {
        "collapsed": true,
        "id": "CRCrwduIDfqP"
      },
      "outputs": [],
      "source": [
        "# Other imports like os for directory management and numpy for mathematical operation on arrays\n",
        "import os\n",
        "\n",
        "# Numpy for performing mathematical operations on arrays\n",
        "import numpy as np\n",
        "\n",
        "# Importing pandas for data visualization in the forms of tables or data frames\n",
        "import pandas as pd\n",
        "\n",
        "# Time for dealing with real time and the pillow for dealing with the image for predictions\n",
        "from time import strftime\n",
        "\n",
        "# Pillow for the image used for prediction\n",
        "from PIL import Image"
      ]
    },
    {
      "cell_type": "code",
      "execution_count": 96,
      "metadata": {
        "collapsed": true,
        "id": "t5POZ9v9DfqS"
      },
      "outputs": [],
      "source": [
        "# Loading all the files from the directory into variables\n",
        "X_TRAINING_PATH =  '/content/drive/MyDrive/MNIST/digit_xtrain.csv'\n",
        "X_TESTING_PATH =   '/content/drive/MyDrive/MNIST/digit_xtest.csv'\n",
        "Y_TRAINING_PATH =  '/content/drive/MyDrive/MNIST/digit_ytrain.csv'\n",
        "Y_TESTING_PATH =   '/content/drive/MyDrive/MNIST/digit_ytest.csv'\n"
      ]
    },
    {
      "cell_type": "code",
      "execution_count": 97,
      "metadata": {
        "colab": {
          "base_uri": "https://localhost:8080/"
        },
        "id": "8XJmYzsZDfqT",
        "outputId": "62224d9d-4b14-4de9-a7a7-7e7978edbc8d"
      },
      "outputs": [
        {
          "output_type": "stream",
          "name": "stdout",
          "text": [
            "CPU times: user 203 ms, sys: 2.88 ms, total: 206 ms\n",
            "Wall time: 219 ms\n"
          ]
        }
      ],
      "source": [
        "%%time\n",
        "# Geting the wall time required for reading the y-training csv file\n",
        "y_training_all = np.loadtxt(Y_TRAINING_PATH, delimiter=',', dtype=int)"
      ]
    },
    {
      "cell_type": "code",
      "execution_count": 98,
      "metadata": {
        "id": "jlg_ZdMNDfqV",
        "colab": {
          "base_uri": "https://localhost:8080/"
        },
        "outputId": "223a2c54-db91-4bda-edbe-d4eba894cf69"
      },
      "outputs": [
        {
          "output_type": "execute_result",
          "data": {
            "text/plain": [
              "(60000,)"
            ]
          },
          "metadata": {},
          "execution_count": 98
        }
      ],
      "source": [
        "y_training_all.shape"
      ]
    },
    {
      "cell_type": "code",
      "execution_count": 99,
      "metadata": {
        "collapsed": true,
        "id": "KL1me9ukDfqW",
        "colab": {
          "base_uri": "https://localhost:8080/"
        },
        "outputId": "14c906b3-756b-47fd-d22a-af1319bb4361"
      },
      "outputs": [
        {
          "output_type": "stream",
          "name": "stdout",
          "text": [
            "CPU times: user 40 ms, sys: 77 µs, total: 40.1 ms\n",
            "Wall time: 43.7 ms\n"
          ]
        }
      ],
      "source": [
        "%%time\n",
        "y_testing = np.loadtxt(Y_TESTING_PATH, delimiter=',', dtype=int)"
      ]
    },
    {
      "cell_type": "code",
      "execution_count": 100,
      "metadata": {
        "id": "7wGnvtWRDfqX",
        "colab": {
          "base_uri": "https://localhost:8080/"
        },
        "outputId": "6d9abd28-0be7-487b-8091-ebee583f13f0"
      },
      "outputs": [
        {
          "output_type": "stream",
          "name": "stdout",
          "text": [
            "CPU times: user 22.9 s, sys: 2.66 s, total: 25.6 s\n",
            "Wall time: 25.6 s\n"
          ]
        }
      ],
      "source": [
        "%%time\n",
        "\n",
        "x_training_all = np.loadtxt(X_TRAINING_PATH, delimiter=',', dtype=int)"
      ]
    },
    {
      "cell_type": "code",
      "execution_count": 101,
      "metadata": {
        "id": "GrRCUgNIDfqY",
        "colab": {
          "base_uri": "https://localhost:8080/"
        },
        "outputId": "516e67b7-1a28-4d07-af74-64bf502eff91"
      },
      "outputs": [
        {
          "output_type": "stream",
          "name": "stdout",
          "text": [
            "CPU times: user 3.79 s, sys: 265 ms, total: 4.06 s\n",
            "Wall time: 4.1 s\n"
          ]
        }
      ],
      "source": [
        "%%time\n",
        "\n",
        "x_testing = np.loadtxt(X_TESTING_PATH, delimiter=',', dtype=int)"
      ]
    },
    {
      "cell_type": "markdown",
      "metadata": {
        "id": "WkK_qw6zDfqZ"
      },
      "source": [
        "# Visualizing the Dataset"
      ]
    },
    {
      "cell_type": "code",
      "execution_count": 102,
      "metadata": {
        "id": "dNUY9woKDfqa",
        "colab": {
          "base_uri": "https://localhost:8080/"
        },
        "outputId": "416beb85-8092-4dac-a489-eade077e2505"
      },
      "outputs": [
        {
          "output_type": "execute_result",
          "data": {
            "text/plain": [
              "(60000, 784)"
            ]
          },
          "metadata": {},
          "execution_count": 102
        }
      ],
      "source": [
        "x_training_all.shape"
      ]
    },
    {
      "cell_type": "code",
      "execution_count": 103,
      "metadata": {
        "id": "QX-AtzGSDfqb",
        "colab": {
          "base_uri": "https://localhost:8080/"
        },
        "outputId": "d983bc5e-c4ff-493a-8f25-019d89b7afd0"
      },
      "outputs": [
        {
          "output_type": "execute_result",
          "data": {
            "text/plain": [
              "array([  0,   0,   0,   0,   0,   0,   0,   0,   0,   0,   0,   0,   0,\n",
              "         0,   0,   0,   0,   0,   0,   0,   0,   0,   0,   0,   0,   0,\n",
              "         0,   0,   0,   0,   0,   0,   0,   0,   0,   0,   0,   0,   0,\n",
              "         0,   0,   0,   0,   0,   0,   0,   0,   0,   0,   0,   0,   0,\n",
              "         0,   0,   0,   0,   0,   0,   0,   0,   0,   0,   0,   0,   0,\n",
              "         0,   0,   0,   0,   0,   0,   0,   0,   0,   0,   0,   0,   0,\n",
              "         0,   0,   0,   0,   0,   0,   0,   0,   0,   0,   0,   0,   0,\n",
              "         0,   0,   0,   0,   0,   0,   0,   0,   0,   0,   0,   0,   0,\n",
              "         0,   0,   0,   0,   0,   0,   0,   0,   0,   0,   0,   0,   0,\n",
              "         0,   0,   0,   0,   0,   0,   0,   0,   0,   0,   0,   0,   0,\n",
              "         0,   0,   0,   0,   0,   0,   0,   0,   0,   0,   0,   0,   0,\n",
              "         0,   0,   0,   0,   0,   0,   0,   0,   0,   3,  18,  18,  18,\n",
              "       126, 136, 175,  26, 166, 255, 247, 127,   0,   0,   0,   0,   0,\n",
              "         0,   0,   0,   0,   0,   0,   0,  30,  36,  94, 154, 170, 253,\n",
              "       253, 253, 253, 253, 225, 172, 253, 242, 195,  64,   0,   0,   0,\n",
              "         0,   0,   0,   0,   0,   0,   0,   0,  49, 238, 253, 253, 253,\n",
              "       253, 253, 253, 253, 253, 251,  93,  82,  82,  56,  39,   0,   0,\n",
              "         0,   0,   0,   0,   0,   0,   0,   0,   0,   0,  18, 219, 253,\n",
              "       253, 253, 253, 253, 198, 182, 247, 241,   0,   0,   0,   0,   0,\n",
              "         0,   0,   0,   0,   0,   0,   0,   0,   0,   0,   0,   0,   0,\n",
              "        80, 156, 107, 253, 253, 205,  11,   0,  43, 154,   0,   0,   0,\n",
              "         0,   0,   0,   0,   0,   0,   0,   0,   0,   0,   0,   0,   0,\n",
              "         0,   0,   0,  14,   1, 154, 253,  90,   0,   0,   0,   0,   0,\n",
              "         0,   0,   0,   0,   0,   0,   0,   0,   0,   0,   0,   0,   0,\n",
              "         0,   0,   0,   0,   0,   0,   0, 139, 253, 190,   2,   0,   0,\n",
              "         0,   0,   0,   0,   0,   0,   0,   0,   0,   0,   0,   0,   0,\n",
              "         0,   0,   0,   0,   0,   0,   0,   0,   0,  11, 190, 253,  70,\n",
              "         0,   0,   0,   0,   0,   0,   0,   0,   0,   0,   0,   0,   0,\n",
              "         0,   0,   0,   0,   0,   0,   0,   0,   0,   0,   0,   0,  35,\n",
              "       241, 225, 160, 108,   1,   0,   0,   0,   0,   0,   0,   0,   0,\n",
              "         0,   0,   0,   0,   0,   0,   0,   0,   0,   0,   0,   0,   0,\n",
              "         0,   0,  81, 240, 253, 253, 119,  25,   0,   0,   0,   0,   0,\n",
              "         0,   0,   0,   0,   0,   0,   0,   0,   0,   0,   0,   0,   0,\n",
              "         0,   0,   0,   0,   0,  45, 186, 253, 253, 150,  27,   0,   0,\n",
              "         0,   0,   0,   0,   0,   0,   0,   0,   0,   0,   0,   0,   0,\n",
              "         0,   0,   0,   0,   0,   0,   0,   0,  16,  93, 252, 253, 187,\n",
              "         0,   0,   0,   0,   0,   0,   0,   0,   0,   0,   0,   0,   0,\n",
              "         0,   0,   0,   0,   0,   0,   0,   0,   0,   0,   0,   0, 249,\n",
              "       253, 249,  64,   0,   0,   0,   0,   0,   0,   0,   0,   0,   0,\n",
              "         0,   0,   0,   0,   0,   0,   0,   0,   0,   0,   0,  46, 130,\n",
              "       183, 253, 253, 207,   2,   0,   0,   0,   0,   0,   0,   0,   0,\n",
              "         0,   0,   0,   0,   0,   0,   0,   0,   0,   0,   0,  39, 148,\n",
              "       229, 253, 253, 253, 250, 182,   0,   0,   0,   0,   0,   0,   0,\n",
              "         0,   0,   0,   0,   0,   0,   0,   0,   0,   0,   0,  24, 114,\n",
              "       221, 253, 253, 253, 253, 201,  78,   0,   0,   0,   0,   0,   0,\n",
              "         0,   0,   0,   0,   0,   0,   0,   0,   0,   0,   0,  23,  66,\n",
              "       213, 253, 253, 253, 253, 198,  81,   2,   0,   0,   0,   0,   0,\n",
              "         0,   0,   0,   0,   0,   0,   0,   0,   0,   0,   0,  18, 171,\n",
              "       219, 253, 253, 253, 253, 195,  80,   9,   0,   0,   0,   0,   0,\n",
              "         0,   0,   0,   0,   0,   0,   0,   0,   0,   0,   0,  55, 172,\n",
              "       226, 253, 253, 253, 253, 244, 133,  11,   0,   0,   0,   0,   0,\n",
              "         0,   0,   0,   0,   0,   0,   0,   0,   0,   0,   0,   0,   0,\n",
              "       136, 253, 253, 253, 212, 135, 132,  16,   0,   0,   0,   0,   0,\n",
              "         0,   0,   0,   0,   0,   0,   0,   0,   0,   0,   0,   0,   0,\n",
              "         0,   0,   0,   0,   0,   0,   0,   0,   0,   0,   0,   0,   0,\n",
              "         0,   0,   0,   0,   0,   0,   0,   0,   0,   0,   0,   0,   0,\n",
              "         0,   0,   0,   0,   0,   0,   0,   0,   0,   0,   0,   0,   0,\n",
              "         0,   0,   0,   0,   0,   0,   0,   0,   0,   0,   0,   0,   0,\n",
              "         0,   0,   0,   0,   0,   0,   0,   0,   0,   0,   0,   0,   0,\n",
              "         0,   0,   0,   0,   0,   0,   0,   0,   0,   0,   0,   0,   0,\n",
              "         0,   0,   0,   0])"
            ]
          },
          "metadata": {},
          "execution_count": 103
        }
      ],
      "source": [
        "x_training_all[0]"
      ]
    },
    {
      "cell_type": "code",
      "execution_count": 104,
      "metadata": {
        "id": "oX9j1GoXDfqb",
        "colab": {
          "base_uri": "https://localhost:8080/"
        },
        "outputId": "9e58d94c-3172-4f7d-a04d-ea096f64e72e"
      },
      "outputs": [
        {
          "output_type": "execute_result",
          "data": {
            "text/plain": [
              "(60000,)"
            ]
          },
          "metadata": {},
          "execution_count": 104
        }
      ],
      "source": [
        "y_training_all.shape"
      ]
    },
    {
      "cell_type": "code",
      "execution_count": 105,
      "metadata": {
        "id": "lnPzy2YsDfqc",
        "colab": {
          "base_uri": "https://localhost:8080/"
        },
        "outputId": "9448d89d-9d2c-400c-f172-010d58b359f0"
      },
      "outputs": [
        {
          "output_type": "execute_result",
          "data": {
            "text/plain": [
              "(10000, 784)"
            ]
          },
          "metadata": {},
          "execution_count": 105
        }
      ],
      "source": [
        "x_testing.shape"
      ]
    },
    {
      "cell_type": "code",
      "execution_count": 106,
      "metadata": {
        "id": "BUF8pKuwDfqc",
        "colab": {
          "base_uri": "https://localhost:8080/"
        },
        "outputId": "1e2234ff-1b9e-46bf-94d1-acd263ca8c12"
      },
      "outputs": [
        {
          "output_type": "execute_result",
          "data": {
            "text/plain": [
              "array([5, 0, 4, 1, 9, 2, 1, 3, 1, 4])"
            ]
          },
          "metadata": {},
          "execution_count": 106
        }
      ],
      "source": [
        "# First 10 labels from training dataset\n",
        "y_training_all[:10]"
      ]
    },
    {
      "cell_type": "code",
      "execution_count": 107,
      "metadata": {
        "collapsed": true,
        "id": "S3-LwrqnDfqd"
      },
      "outputs": [],
      "source": [
        "# Our Features are between 0 and 255 which is a large range. So, we have to rescale our training and testing dataset\n",
        "# After rescaling our data is between 0 and 1\n",
        "x_training_all = x_training_all / 255.0\n",
        "x_testing      =  x_testing / 255.0"
      ]
    },
    {
      "cell_type": "code",
      "source": [
        "x_training_all[0]"
      ],
      "metadata": {
        "colab": {
          "base_uri": "https://localhost:8080/"
        },
        "id": "P4wP4Qt5L_l1",
        "outputId": "d6b6a30e-2ccc-49a6-aa59-2a1e55c2ca86"
      },
      "execution_count": 108,
      "outputs": [
        {
          "output_type": "execute_result",
          "data": {
            "text/plain": [
              "array([0.        , 0.        , 0.        , 0.        , 0.        ,\n",
              "       0.        , 0.        , 0.        , 0.        , 0.        ,\n",
              "       0.        , 0.        , 0.        , 0.        , 0.        ,\n",
              "       0.        , 0.        , 0.        , 0.        , 0.        ,\n",
              "       0.        , 0.        , 0.        , 0.        , 0.        ,\n",
              "       0.        , 0.        , 0.        , 0.        , 0.        ,\n",
              "       0.        , 0.        , 0.        , 0.        , 0.        ,\n",
              "       0.        , 0.        , 0.        , 0.        , 0.        ,\n",
              "       0.        , 0.        , 0.        , 0.        , 0.        ,\n",
              "       0.        , 0.        , 0.        , 0.        , 0.        ,\n",
              "       0.        , 0.        , 0.        , 0.        , 0.        ,\n",
              "       0.        , 0.        , 0.        , 0.        , 0.        ,\n",
              "       0.        , 0.        , 0.        , 0.        , 0.        ,\n",
              "       0.        , 0.        , 0.        , 0.        , 0.        ,\n",
              "       0.        , 0.        , 0.        , 0.        , 0.        ,\n",
              "       0.        , 0.        , 0.        , 0.        , 0.        ,\n",
              "       0.        , 0.        , 0.        , 0.        , 0.        ,\n",
              "       0.        , 0.        , 0.        , 0.        , 0.        ,\n",
              "       0.        , 0.        , 0.        , 0.        , 0.        ,\n",
              "       0.        , 0.        , 0.        , 0.        , 0.        ,\n",
              "       0.        , 0.        , 0.        , 0.        , 0.        ,\n",
              "       0.        , 0.        , 0.        , 0.        , 0.        ,\n",
              "       0.        , 0.        , 0.        , 0.        , 0.        ,\n",
              "       0.        , 0.        , 0.        , 0.        , 0.        ,\n",
              "       0.        , 0.        , 0.        , 0.        , 0.        ,\n",
              "       0.        , 0.        , 0.        , 0.        , 0.        ,\n",
              "       0.        , 0.        , 0.        , 0.        , 0.        ,\n",
              "       0.        , 0.        , 0.        , 0.        , 0.        ,\n",
              "       0.        , 0.        , 0.        , 0.        , 0.        ,\n",
              "       0.        , 0.        , 0.        , 0.        , 0.        ,\n",
              "       0.        , 0.        , 0.01176471, 0.07058824, 0.07058824,\n",
              "       0.07058824, 0.49411765, 0.53333333, 0.68627451, 0.10196078,\n",
              "       0.65098039, 1.        , 0.96862745, 0.49803922, 0.        ,\n",
              "       0.        , 0.        , 0.        , 0.        , 0.        ,\n",
              "       0.        , 0.        , 0.        , 0.        , 0.        ,\n",
              "       0.        , 0.11764706, 0.14117647, 0.36862745, 0.60392157,\n",
              "       0.66666667, 0.99215686, 0.99215686, 0.99215686, 0.99215686,\n",
              "       0.99215686, 0.88235294, 0.6745098 , 0.99215686, 0.94901961,\n",
              "       0.76470588, 0.25098039, 0.        , 0.        , 0.        ,\n",
              "       0.        , 0.        , 0.        , 0.        , 0.        ,\n",
              "       0.        , 0.        , 0.        , 0.19215686, 0.93333333,\n",
              "       0.99215686, 0.99215686, 0.99215686, 0.99215686, 0.99215686,\n",
              "       0.99215686, 0.99215686, 0.99215686, 0.98431373, 0.36470588,\n",
              "       0.32156863, 0.32156863, 0.21960784, 0.15294118, 0.        ,\n",
              "       0.        , 0.        , 0.        , 0.        , 0.        ,\n",
              "       0.        , 0.        , 0.        , 0.        , 0.        ,\n",
              "       0.        , 0.07058824, 0.85882353, 0.99215686, 0.99215686,\n",
              "       0.99215686, 0.99215686, 0.99215686, 0.77647059, 0.71372549,\n",
              "       0.96862745, 0.94509804, 0.        , 0.        , 0.        ,\n",
              "       0.        , 0.        , 0.        , 0.        , 0.        ,\n",
              "       0.        , 0.        , 0.        , 0.        , 0.        ,\n",
              "       0.        , 0.        , 0.        , 0.        , 0.        ,\n",
              "       0.31372549, 0.61176471, 0.41960784, 0.99215686, 0.99215686,\n",
              "       0.80392157, 0.04313725, 0.        , 0.16862745, 0.60392157,\n",
              "       0.        , 0.        , 0.        , 0.        , 0.        ,\n",
              "       0.        , 0.        , 0.        , 0.        , 0.        ,\n",
              "       0.        , 0.        , 0.        , 0.        , 0.        ,\n",
              "       0.        , 0.        , 0.        , 0.        , 0.05490196,\n",
              "       0.00392157, 0.60392157, 0.99215686, 0.35294118, 0.        ,\n",
              "       0.        , 0.        , 0.        , 0.        , 0.        ,\n",
              "       0.        , 0.        , 0.        , 0.        , 0.        ,\n",
              "       0.        , 0.        , 0.        , 0.        , 0.        ,\n",
              "       0.        , 0.        , 0.        , 0.        , 0.        ,\n",
              "       0.        , 0.        , 0.        , 0.        , 0.54509804,\n",
              "       0.99215686, 0.74509804, 0.00784314, 0.        , 0.        ,\n",
              "       0.        , 0.        , 0.        , 0.        , 0.        ,\n",
              "       0.        , 0.        , 0.        , 0.        , 0.        ,\n",
              "       0.        , 0.        , 0.        , 0.        , 0.        ,\n",
              "       0.        , 0.        , 0.        , 0.        , 0.        ,\n",
              "       0.        , 0.        , 0.04313725, 0.74509804, 0.99215686,\n",
              "       0.2745098 , 0.        , 0.        , 0.        , 0.        ,\n",
              "       0.        , 0.        , 0.        , 0.        , 0.        ,\n",
              "       0.        , 0.        , 0.        , 0.        , 0.        ,\n",
              "       0.        , 0.        , 0.        , 0.        , 0.        ,\n",
              "       0.        , 0.        , 0.        , 0.        , 0.        ,\n",
              "       0.        , 0.1372549 , 0.94509804, 0.88235294, 0.62745098,\n",
              "       0.42352941, 0.00392157, 0.        , 0.        , 0.        ,\n",
              "       0.        , 0.        , 0.        , 0.        , 0.        ,\n",
              "       0.        , 0.        , 0.        , 0.        , 0.        ,\n",
              "       0.        , 0.        , 0.        , 0.        , 0.        ,\n",
              "       0.        , 0.        , 0.        , 0.        , 0.        ,\n",
              "       0.31764706, 0.94117647, 0.99215686, 0.99215686, 0.46666667,\n",
              "       0.09803922, 0.        , 0.        , 0.        , 0.        ,\n",
              "       0.        , 0.        , 0.        , 0.        , 0.        ,\n",
              "       0.        , 0.        , 0.        , 0.        , 0.        ,\n",
              "       0.        , 0.        , 0.        , 0.        , 0.        ,\n",
              "       0.        , 0.        , 0.        , 0.        , 0.17647059,\n",
              "       0.72941176, 0.99215686, 0.99215686, 0.58823529, 0.10588235,\n",
              "       0.        , 0.        , 0.        , 0.        , 0.        ,\n",
              "       0.        , 0.        , 0.        , 0.        , 0.        ,\n",
              "       0.        , 0.        , 0.        , 0.        , 0.        ,\n",
              "       0.        , 0.        , 0.        , 0.        , 0.        ,\n",
              "       0.        , 0.        , 0.        , 0.0627451 , 0.36470588,\n",
              "       0.98823529, 0.99215686, 0.73333333, 0.        , 0.        ,\n",
              "       0.        , 0.        , 0.        , 0.        , 0.        ,\n",
              "       0.        , 0.        , 0.        , 0.        , 0.        ,\n",
              "       0.        , 0.        , 0.        , 0.        , 0.        ,\n",
              "       0.        , 0.        , 0.        , 0.        , 0.        ,\n",
              "       0.        , 0.        , 0.        , 0.97647059, 0.99215686,\n",
              "       0.97647059, 0.25098039, 0.        , 0.        , 0.        ,\n",
              "       0.        , 0.        , 0.        , 0.        , 0.        ,\n",
              "       0.        , 0.        , 0.        , 0.        , 0.        ,\n",
              "       0.        , 0.        , 0.        , 0.        , 0.        ,\n",
              "       0.        , 0.        , 0.        , 0.18039216, 0.50980392,\n",
              "       0.71764706, 0.99215686, 0.99215686, 0.81176471, 0.00784314,\n",
              "       0.        , 0.        , 0.        , 0.        , 0.        ,\n",
              "       0.        , 0.        , 0.        , 0.        , 0.        ,\n",
              "       0.        , 0.        , 0.        , 0.        , 0.        ,\n",
              "       0.        , 0.        , 0.        , 0.        , 0.15294118,\n",
              "       0.58039216, 0.89803922, 0.99215686, 0.99215686, 0.99215686,\n",
              "       0.98039216, 0.71372549, 0.        , 0.        , 0.        ,\n",
              "       0.        , 0.        , 0.        , 0.        , 0.        ,\n",
              "       0.        , 0.        , 0.        , 0.        , 0.        ,\n",
              "       0.        , 0.        , 0.        , 0.        , 0.        ,\n",
              "       0.09411765, 0.44705882, 0.86666667, 0.99215686, 0.99215686,\n",
              "       0.99215686, 0.99215686, 0.78823529, 0.30588235, 0.        ,\n",
              "       0.        , 0.        , 0.        , 0.        , 0.        ,\n",
              "       0.        , 0.        , 0.        , 0.        , 0.        ,\n",
              "       0.        , 0.        , 0.        , 0.        , 0.        ,\n",
              "       0.        , 0.09019608, 0.25882353, 0.83529412, 0.99215686,\n",
              "       0.99215686, 0.99215686, 0.99215686, 0.77647059, 0.31764706,\n",
              "       0.00784314, 0.        , 0.        , 0.        , 0.        ,\n",
              "       0.        , 0.        , 0.        , 0.        , 0.        ,\n",
              "       0.        , 0.        , 0.        , 0.        , 0.        ,\n",
              "       0.        , 0.        , 0.07058824, 0.67058824, 0.85882353,\n",
              "       0.99215686, 0.99215686, 0.99215686, 0.99215686, 0.76470588,\n",
              "       0.31372549, 0.03529412, 0.        , 0.        , 0.        ,\n",
              "       0.        , 0.        , 0.        , 0.        , 0.        ,\n",
              "       0.        , 0.        , 0.        , 0.        , 0.        ,\n",
              "       0.        , 0.        , 0.        , 0.21568627, 0.6745098 ,\n",
              "       0.88627451, 0.99215686, 0.99215686, 0.99215686, 0.99215686,\n",
              "       0.95686275, 0.52156863, 0.04313725, 0.        , 0.        ,\n",
              "       0.        , 0.        , 0.        , 0.        , 0.        ,\n",
              "       0.        , 0.        , 0.        , 0.        , 0.        ,\n",
              "       0.        , 0.        , 0.        , 0.        , 0.        ,\n",
              "       0.        , 0.53333333, 0.99215686, 0.99215686, 0.99215686,\n",
              "       0.83137255, 0.52941176, 0.51764706, 0.0627451 , 0.        ,\n",
              "       0.        , 0.        , 0.        , 0.        , 0.        ,\n",
              "       0.        , 0.        , 0.        , 0.        , 0.        ,\n",
              "       0.        , 0.        , 0.        , 0.        , 0.        ,\n",
              "       0.        , 0.        , 0.        , 0.        , 0.        ,\n",
              "       0.        , 0.        , 0.        , 0.        , 0.        ,\n",
              "       0.        , 0.        , 0.        , 0.        , 0.        ,\n",
              "       0.        , 0.        , 0.        , 0.        , 0.        ,\n",
              "       0.        , 0.        , 0.        , 0.        , 0.        ,\n",
              "       0.        , 0.        , 0.        , 0.        , 0.        ,\n",
              "       0.        , 0.        , 0.        , 0.        , 0.        ,\n",
              "       0.        , 0.        , 0.        , 0.        , 0.        ,\n",
              "       0.        , 0.        , 0.        , 0.        , 0.        ,\n",
              "       0.        , 0.        , 0.        , 0.        , 0.        ,\n",
              "       0.        , 0.        , 0.        , 0.        , 0.        ,\n",
              "       0.        , 0.        , 0.        , 0.        , 0.        ,\n",
              "       0.        , 0.        , 0.        , 0.        , 0.        ,\n",
              "       0.        , 0.        , 0.        , 0.        , 0.        ,\n",
              "       0.        , 0.        , 0.        , 0.        , 0.        ,\n",
              "       0.        , 0.        , 0.        , 0.        , 0.        ,\n",
              "       0.        , 0.        , 0.        , 0.        ])"
            ]
          },
          "metadata": {},
          "execution_count": 108
        }
      ]
    },
    {
      "cell_type": "code",
      "source": [
        "# Our labels are 10 in total from 0 to 9\n",
        "NR_CLASSES = 10"
      ],
      "metadata": {
        "id": "CzQbr74OSoyq"
      },
      "execution_count": 109,
      "outputs": []
    },
    {
      "cell_type": "code",
      "execution_count": 110,
      "metadata": {
        "collapsed": true,
        "id": "Rw6R_MlADfqg"
      },
      "outputs": [],
      "source": [
        "y_training_all = np.eye(NR_CLASSES)[y_training_all]"
      ]
    },
    {
      "cell_type": "code",
      "execution_count": 111,
      "metadata": {
        "id": "VE3E3ESVDfqg",
        "colab": {
          "base_uri": "https://localhost:8080/"
        },
        "outputId": "5d4f55dc-841e-4fb1-a310-a611a69e4fb5"
      },
      "outputs": [
        {
          "output_type": "execute_result",
          "data": {
            "text/plain": [
              "(60000, 10)"
            ]
          },
          "metadata": {},
          "execution_count": 111
        }
      ],
      "source": [
        "y_training_all.shape"
      ]
    },
    {
      "cell_type": "code",
      "execution_count": 112,
      "metadata": {
        "id": "rfZMrDT3Dfqg",
        "colab": {
          "base_uri": "https://localhost:8080/"
        },
        "outputId": "d520b7f1-8794-4071-f4a2-858d66a7cf8d"
      },
      "outputs": [
        {
          "output_type": "execute_result",
          "data": {
            "text/plain": [
              "(10000, 10)"
            ]
          },
          "metadata": {},
          "execution_count": 112
        }
      ],
      "source": [
        "y_testing = np.eye(NR_CLASSES)[y_testing]\n",
        "y_testing.shape"
      ]
    },
    {
      "cell_type": "code",
      "source": [
        "LOGGING_PATH = '/content/sample_data/MNISTtensorboard_mnist_digit_logs/'\n",
        "\n",
        "VALIDATION_SIZE = 10000\n",
        "IMAGE_WIDTH = 28\n",
        "IMAGE_HEIGHT = 28\n",
        "CHANNELS = 1\n",
        "# Total number of features\n",
        "TOTAL_INPUTS = IMAGE_WIDTH*IMAGE_HEIGHT*CHANNELS "
      ],
      "metadata": {
        "id": "hguGPsTkGWv2"
      },
      "execution_count": 113,
      "outputs": []
    },
    {
      "cell_type": "code",
      "source": [
        "# Now we have to divide our training dataset into smaller training and validation dataset\n",
        "# Training dataset contains 50000 and avalidation contains 10000"
      ],
      "metadata": {
        "id": "-fbNNPKlUcPm"
      },
      "execution_count": 114,
      "outputs": []
    },
    {
      "cell_type": "code",
      "execution_count": 115,
      "metadata": {
        "collapsed": true,
        "id": "Wo4GWo5uDfqg"
      },
      "outputs": [],
      "source": [
        "# From start to the validation size\n",
        "x_val = x_training_all[:VALIDATION_SIZE]\n",
        "y_val = y_training_all[:VALIDATION_SIZE]"
      ]
    },
    {
      "cell_type": "code",
      "source": [
        "x_val.shape"
      ],
      "metadata": {
        "colab": {
          "base_uri": "https://localhost:8080/"
        },
        "id": "fw2f-bsHVB7E",
        "outputId": "99fac365-83c1-4bee-ccd0-a9f5c82fbe8d"
      },
      "execution_count": 116,
      "outputs": [
        {
          "output_type": "execute_result",
          "data": {
            "text/plain": [
              "(10000, 784)"
            ]
          },
          "metadata": {},
          "execution_count": 116
        }
      ]
    },
    {
      "cell_type": "code",
      "execution_count": 117,
      "metadata": {
        "collapsed": true,
        "id": "EwiwRaZNDfqi"
      },
      "outputs": [],
      "source": [
        "# From validation size till the end\n",
        "x_training = x_training_all[VALIDATION_SIZE:]\n",
        "y_training = y_training_all[VALIDATION_SIZE:]"
      ]
    },
    {
      "cell_type": "code",
      "execution_count": 118,
      "metadata": {
        "id": "U-m3BNKuDfqi",
        "colab": {
          "base_uri": "https://localhost:8080/"
        },
        "outputId": "06261c29-181c-40e1-9652-22057ec8cca7"
      },
      "outputs": [
        {
          "output_type": "execute_result",
          "data": {
            "text/plain": [
              "(50000, 784)"
            ]
          },
          "metadata": {},
          "execution_count": 118
        }
      ],
      "source": [
        "x_training.shape"
      ]
    },
    {
      "cell_type": "markdown",
      "metadata": {
        "collapsed": true,
        "id": "I2CEuH3uDfqi"
      },
      "source": [
        "# Setup Tensorflow Graph"
      ]
    },
    {
      "cell_type": "code",
      "execution_count": 119,
      "metadata": {
        "collapsed": true,
        "id": "VnpOMUVnDfqj"
      },
      "outputs": [],
      "source": [
        "# Creating tensors\n",
        "import tensorflow.compat.v1 as tf\n",
        "tf.disable_v2_behavior()\n",
        "\n",
        "# tf.placeholder is used for creating tensors 2 parameters (datatype, shape of tensor)\n",
        "X = tf.placeholder(tf.float32, shape=[None, TOTAL_INPUTS], name='X')\n",
        "Y = tf.placeholder(tf.float32, shape=[None, NR_CLASSES], name='labels')"
      ]
    },
    {
      "cell_type": "code",
      "execution_count": 120,
      "metadata": {
        "collapsed": true,
        "id": "qIsdT7A1Dfqj"
      },
      "outputs": [],
      "source": [
        "# Hyperparameters\n",
        "# nr_epochs = 25\n",
        "# learning_rate = 1e-3\n",
        "nr_epochs = 50\n",
        "learning_rate = 1e-4\n",
        "\n",
        "n_hidden1 = 512\n",
        "n_hidden2 = 64"
      ]
    },
    {
      "cell_type": "code",
      "source": [
        "1e-3"
      ],
      "metadata": {
        "colab": {
          "base_uri": "https://localhost:8080/"
        },
        "id": "pxUuOYnPY5Ny",
        "outputId": "75646e89-c18d-4501-e4a2-b2d22a7aef8c"
      },
      "execution_count": 121,
      "outputs": [
        {
          "output_type": "execute_result",
          "data": {
            "text/plain": [
              "0.001"
            ]
          },
          "metadata": {},
          "execution_count": 121
        }
      ]
    },
    {
      "cell_type": "code",
      "execution_count": 122,
      "metadata": {
        "collapsed": true,
        "id": "D6EOIYC9Dfqj"
      },
      "outputs": [],
      "source": [
        "def setup_layer(input, weight_dim, bias_dim, name):\n",
        "    \n",
        "    with tf.name_scope(name):\n",
        "      \"\"\"\n",
        "      Iniatializing the weights\n",
        "      tf.truncated_normal generates random values execpt for extreme values \n",
        "      Shape = no of inputs and neurons in the layer\n",
        "      Standard Deviation tells how far appart weights should from each others\n",
        "      \"\"\"\n",
        "      initial_w = tf.truncated_normal(shape=weight_dim, stddev=0.1, seed=42)\n",
        "      # Calculations for weights \n",
        "      w = tf.Variable(initial_value=initial_w, name='W')\n",
        "\n",
        "      \"\"\"\n",
        "      Initializing the biases\n",
        "      All biases start from same value that is 0\n",
        "      Shape is no of neurons in layer\n",
        "      \"\"\"\n",
        "      initial_b = tf.constant(value=0.0, shape=bias_dim)\n",
        "      # Calculation of the biases\n",
        "      b = tf.Variable(initial_value=initial_b, name='B')\n",
        "\n",
        "      \"\"\"\n",
        "      Input layer of next hidden layer\n",
        "      MatrixMultiplication\n",
        "      \"\"\"\n",
        "      layer_in = tf.matmul(input, w) + b\n",
        "\n",
        "      # Checking for the the last hidden layer to apply activation accordingly\n",
        "      if name=='out':\n",
        "        # Apply softmax for the last layer\n",
        "        layer_out = tf.nn.softmax(layer_in)\n",
        "      else:\n",
        "        # Apply relu for the remaining layers\n",
        "        layer_out = tf.nn.relu(layer_in)\n",
        "        \n",
        "      tf.summary.histogram('weights', w)\n",
        "      tf.summary.histogram('biases', b)\n",
        "        \n",
        "      return layer_out"
      ]
    },
    {
      "cell_type": "code",
      "execution_count": 123,
      "metadata": {
        "collapsed": true,
        "id": "zOG84fyLDfqk"
      },
      "outputs": [],
      "source": [
        "layer_1 = setup_layer(X, weight_dim=[TOTAL_INPUTS, n_hidden1], \n",
        "                      bias_dim=[n_hidden1], name='layer_1')\n",
        "\n",
        "layer_drop = tf.nn.dropout(layer_1, keep_prob=0.8, name='dropout_layer')\n",
        "\n",
        "layer_2 = setup_layer(layer_drop, weight_dim=[n_hidden1, n_hidden2], \n",
        "                      bias_dim=[n_hidden2], name='layer_2')\n",
        "\n",
        "output = setup_layer(layer_2, weight_dim=[n_hidden2, NR_CLASSES], \n",
        "                      bias_dim=[NR_CLASSES], name='out')\n",
        "\n",
        "model_name = f'{n_hidden1}-DO-{n_hidden2} LR{learning_rate} E{nr_epochs}'"
      ]
    },
    {
      "cell_type": "markdown",
      "metadata": {
        "id": "alGZtmHLDfql"
      },
      "source": [
        "# Tensorboard Setup"
      ]
    },
    {
      "cell_type": "code",
      "execution_count": 124,
      "metadata": {
        "id": "r_PFW08fDfql",
        "colab": {
          "base_uri": "https://localhost:8080/"
        },
        "outputId": "e1863ed3-a837-4661-9c45-41711db12c80"
      },
      "outputs": [
        {
          "output_type": "stream",
          "name": "stdout",
          "text": [
            "Successfully created directories!\n"
          ]
        }
      ],
      "source": [
        "# Folder for Tensorboard\n",
        "\n",
        "folder_name = f'{model_name} at {strftime(\"%H:%M\")}'\n",
        "directory = os.path.join(LOGGING_PATH, folder_name)\n",
        "\n",
        "try:\n",
        "    os.makedirs(directory)\n",
        "except OSError as exception:\n",
        "    print(exception.strerror)\n",
        "else:\n",
        "    print('Successfully created directories!')"
      ]
    },
    {
      "cell_type": "markdown",
      "metadata": {
        "id": "7KrqEo5YDfql"
      },
      "source": [
        "# Loss, Optimisation & Metrics"
      ]
    },
    {
      "cell_type": "markdown",
      "metadata": {
        "id": "wIMCqeHRDfqm"
      },
      "source": [
        "#### Defining Loss Function"
      ]
    },
    {
      "cell_type": "code",
      "execution_count": 125,
      "metadata": {
        "collapsed": true,
        "id": "3xT_otGQDfqm"
      },
      "outputs": [],
      "source": [
        "\n",
        "with tf.name_scope('loss_calc'):\n",
        "    loss = tf.reduce_mean(tf.nn.softmax_cross_entropy_with_logits_v2(labels=Y, logits=output))"
      ]
    },
    {
      "cell_type": "markdown",
      "metadata": {
        "id": "2Iw_otXDDfqm"
      },
      "source": [
        "#### Defining Optimizer"
      ]
    },
    {
      "cell_type": "code",
      "execution_count": 126,
      "metadata": {
        "collapsed": true,
        "id": "eQgDimuJDfqm"
      },
      "outputs": [],
      "source": [
        "with tf.name_scope('optimizer'):\n",
        "    optimizer = tf.train.AdamOptimizer(learning_rate)\n",
        "    train_step = optimizer.minimize(loss)"
      ]
    },
    {
      "cell_type": "markdown",
      "metadata": {
        "collapsed": true,
        "id": "KbssGrXmDfqn"
      },
      "source": [
        "#### Accuracy Metric"
      ]
    },
    {
      "cell_type": "code",
      "execution_count": 127,
      "metadata": {
        "collapsed": true,
        "id": "eU7fq7cPDfqn"
      },
      "outputs": [],
      "source": [
        "with tf.name_scope('accuracy_calc'):\n",
        "    correct_pred = tf.equal(tf.argmax(output, axis=1), tf.argmax(Y, axis=1))\n",
        "    accuracy = tf.reduce_mean(tf.cast(correct_pred, tf.float32))"
      ]
    },
    {
      "cell_type": "code",
      "execution_count": 128,
      "metadata": {
        "id": "FJ706vezDfqn"
      },
      "outputs": [],
      "source": [
        "with tf.name_scope('performance'):\n",
        "    tf.summary.scalar('accuracy', accuracy)\n",
        "    tf.summary.scalar('cost', loss)"
      ]
    },
    {
      "cell_type": "markdown",
      "metadata": {
        "id": "rWmU0OHxDfqo"
      },
      "source": [
        "#### Check Input Images in Tensorboard"
      ]
    },
    {
      "cell_type": "code",
      "execution_count": 129,
      "metadata": {
        "collapsed": true,
        "id": "5E_jh3IrDfqo"
      },
      "outputs": [],
      "source": [
        "with tf.name_scope('show_image'):\n",
        "    x_image = tf.reshape(X, [-1, 28, 28, 1])\n",
        "    tf.summary.image('image_input', x_image, max_outputs=4)"
      ]
    },
    {
      "cell_type": "markdown",
      "metadata": {
        "id": "zwF7sprZDfqp"
      },
      "source": [
        "# Run Session"
      ]
    },
    {
      "cell_type": "code",
      "execution_count": 130,
      "metadata": {
        "collapsed": true,
        "id": "d0hMqqzzDfqp"
      },
      "outputs": [],
      "source": [
        "sess = tf.Session()"
      ]
    },
    {
      "cell_type": "markdown",
      "metadata": {
        "id": "RGt3G7hgDfqp"
      },
      "source": [
        "#### Setup Filewriter and Merge Summaries"
      ]
    },
    {
      "cell_type": "code",
      "execution_count": 131,
      "metadata": {
        "collapsed": true,
        "id": "yeHu4ioyDfqp"
      },
      "outputs": [],
      "source": [
        "merged_summary = tf.summary.merge_all()\n",
        "\n",
        "train_writer = tf.summary.FileWriter(directory + '/train')\n",
        "train_writer.add_graph(sess.graph)\n",
        "\n",
        "validation_writer = tf.summary.FileWriter(directory + '/validation')"
      ]
    },
    {
      "cell_type": "markdown",
      "metadata": {
        "id": "QR5FuTGTDfqq"
      },
      "source": [
        "#### Initialise all the variables"
      ]
    },
    {
      "cell_type": "code",
      "execution_count": 132,
      "metadata": {
        "collapsed": true,
        "id": "rgXHj8YHDfqq"
      },
      "outputs": [],
      "source": [
        "\n",
        "init = tf.global_variables_initializer()\n",
        "sess.run(init)"
      ]
    },
    {
      "cell_type": "markdown",
      "metadata": {
        "id": "n2i9plCjDfqq"
      },
      "source": [
        "### Batching the Data"
      ]
    },
    {
      "cell_type": "code",
      "execution_count": 133,
      "metadata": {
        "collapsed": true,
        "id": "8jEPKcCbDfqq"
      },
      "outputs": [],
      "source": [
        "size_of_batch = 1000\n",
        "# size_of_batch = 500\n",
        "# size_of_batch = 2000\n"
      ]
    },
    {
      "cell_type": "code",
      "execution_count": 134,
      "metadata": {
        "collapsed": true,
        "id": "01f-q-2ADfqr"
      },
      "outputs": [],
      "source": [
        "num_examples = y_training.shape[0]\n",
        "nr_iterations = int(num_examples/size_of_batch)\n",
        "\n",
        "index_in_epoch = 0"
      ]
    },
    {
      "cell_type": "code",
      "execution_count": 134,
      "metadata": {
        "collapsed": true,
        "id": "RY2mwfntDfqr"
      },
      "outputs": [],
      "source": [
        ""
      ]
    },
    {
      "cell_type": "markdown",
      "source": [
        "this function is to go to the next batch\n"
      ],
      "metadata": {
        "id": "84kX0VBzrE4R"
      }
    },
    {
      "cell_type": "code",
      "execution_count": 135,
      "metadata": {
        "collapsed": true,
        "id": "jjSlo7xyDfqr"
      },
      "outputs": [],
      "source": [
        "def next_batch(batch_size, data, labels):\n",
        "    \n",
        "    global num_examples\n",
        "    global index_in_epoch\n",
        "    \n",
        "    start = index_in_epoch\n",
        "    index_in_epoch += batch_size\n",
        "    \n",
        "    if index_in_epoch > num_examples:\n",
        "        start = 0\n",
        "        index_in_epoch = batch_size\n",
        "    \n",
        "    end = index_in_epoch\n",
        "    \n",
        "    return data[start:end], labels[start:end]"
      ]
    },
    {
      "cell_type": "markdown",
      "metadata": {
        "id": "I3WIZQMkDfqr"
      },
      "source": [
        "### Training Loop"
      ]
    },
    {
      "cell_type": "code",
      "source": [
        "import array as arr\n",
        "accuracy_array = []"
      ],
      "metadata": {
        "id": "unW3WFQ28Cxd"
      },
      "execution_count": 136,
      "outputs": []
    },
    {
      "cell_type": "code",
      "execution_count": 137,
      "metadata": {
        "id": "ZbPonrynDfqr",
        "colab": {
          "base_uri": "https://localhost:8080/"
        },
        "outputId": "680aaa51-70f1-495e-c4da-1542d7175630"
      },
      "outputs": [
        {
          "output_type": "stream",
          "name": "stdout",
          "text": [
            "Epoch 0 \t| Training Accuracy = 0.5360000133514404\n",
            "Epoch 1 \t| Training Accuracy = 0.7739999890327454\n",
            "Epoch 2 \t| Training Accuracy = 0.7929999828338623\n",
            "Epoch 3 \t| Training Accuracy = 0.8259999752044678\n",
            "Epoch 4 \t| Training Accuracy = 0.8460000157356262\n",
            "Epoch 5 \t| Training Accuracy = 0.8479999899864197\n",
            "Epoch 6 \t| Training Accuracy = 0.8519999980926514\n",
            "Epoch 7 \t| Training Accuracy = 0.8579999804496765\n",
            "Epoch 8 \t| Training Accuracy = 0.8519999980926514\n",
            "Epoch 9 \t| Training Accuracy = 0.859000027179718\n",
            "Epoch 10 \t| Training Accuracy = 0.8560000061988831\n",
            "Epoch 11 \t| Training Accuracy = 0.8600000143051147\n",
            "Epoch 12 \t| Training Accuracy = 0.8610000014305115\n",
            "Epoch 13 \t| Training Accuracy = 0.8600000143051147\n",
            "Epoch 14 \t| Training Accuracy = 0.8600000143051147\n",
            "Epoch 15 \t| Training Accuracy = 0.8619999885559082\n",
            "Epoch 16 \t| Training Accuracy = 0.8629999756813049\n",
            "Epoch 17 \t| Training Accuracy = 0.8669999837875366\n",
            "Epoch 18 \t| Training Accuracy = 0.8690000176429749\n",
            "Epoch 19 \t| Training Accuracy = 0.8650000095367432\n",
            "Epoch 20 \t| Training Accuracy = 0.8700000047683716\n",
            "Epoch 21 \t| Training Accuracy = 0.8640000224113464\n",
            "Epoch 22 \t| Training Accuracy = 0.8650000095367432\n",
            "Epoch 23 \t| Training Accuracy = 0.8650000095367432\n",
            "Epoch 24 \t| Training Accuracy = 0.8690000176429749\n",
            "Epoch 25 \t| Training Accuracy = 0.8709999918937683\n",
            "Epoch 26 \t| Training Accuracy = 0.902999997138977\n",
            "Epoch 27 \t| Training Accuracy = 0.9629999995231628\n",
            "Epoch 28 \t| Training Accuracy = 0.9660000205039978\n",
            "Epoch 29 \t| Training Accuracy = 0.9700000286102295\n",
            "Epoch 30 \t| Training Accuracy = 0.9729999899864197\n",
            "Epoch 31 \t| Training Accuracy = 0.9649999737739563\n",
            "Epoch 32 \t| Training Accuracy = 0.972000002861023\n",
            "Epoch 33 \t| Training Accuracy = 0.9729999899864197\n",
            "Epoch 34 \t| Training Accuracy = 0.9750000238418579\n",
            "Epoch 35 \t| Training Accuracy = 0.9700000286102295\n",
            "Epoch 36 \t| Training Accuracy = 0.9710000157356262\n",
            "Epoch 37 \t| Training Accuracy = 0.9769999980926514\n",
            "Epoch 38 \t| Training Accuracy = 0.9789999723434448\n",
            "Epoch 39 \t| Training Accuracy = 0.972000002861023\n",
            "Epoch 40 \t| Training Accuracy = 0.9769999980926514\n",
            "Epoch 41 \t| Training Accuracy = 0.9760000109672546\n",
            "Epoch 42 \t| Training Accuracy = 0.9750000238418579\n",
            "Epoch 43 \t| Training Accuracy = 0.9739999771118164\n",
            "Epoch 44 \t| Training Accuracy = 0.9789999723434448\n",
            "Epoch 45 \t| Training Accuracy = 0.9769999980926514\n",
            "Epoch 46 \t| Training Accuracy = 0.9750000238418579\n",
            "Epoch 47 \t| Training Accuracy = 0.9769999980926514\n",
            "Epoch 48 \t| Training Accuracy = 0.9810000061988831\n",
            "Epoch 49 \t| Training Accuracy = 0.9800000190734863\n",
            "Done training!\n",
            "CPU times: user 3min 54s, sys: 4.04 s, total: 3min 58s\n",
            "Wall time: 2min 12s\n"
          ]
        }
      ],
      "source": [
        "%%time\n",
        "for epoch in range(nr_epochs):\n",
        "    \n",
        "    # ============= Training Dataset =========\n",
        "    for i in range(nr_iterations):\n",
        "        \n",
        "        batch_x, batch_y = next_batch(batch_size=size_of_batch, data=x_training, labels=y_training)\n",
        "        \n",
        "        feed_dictionary = {X:batch_x, Y:batch_y}\n",
        "        \n",
        "        sess.run(train_step, feed_dict=feed_dictionary)\n",
        "        \n",
        "    \n",
        "    s, batch_accuracy = sess.run(fetches=[merged_summary, accuracy], feed_dict=feed_dictionary)\n",
        "        \n",
        "    train_writer.add_summary(s, epoch)\n",
        "    \n",
        "    print(f'Epoch {epoch} \\t| Training Accuracy = {batch_accuracy}')\n",
        "    \n",
        "    # ================== Validation ======================\n",
        "    \n",
        "    summary = sess.run(fetches=merged_summary, feed_dict={X:x_val, Y:y_val})\n",
        "    validation_writer.add_summary(summary, epoch)\n",
        "\n",
        "    accuracy_array.append(batch_accuracy)\n",
        "\n",
        "print('Done training!')"
      ]
    },
    {
      "cell_type": "code",
      "source": [
        "# accuracy of the whole training model\n",
        "accuracy_of_model = np.mean(accuracy_array)\n",
        "print(\"Accuracy of model = {}%\".format(accuracy_of_model*100))"
      ],
      "metadata": {
        "colab": {
          "base_uri": "https://localhost:8080/"
        },
        "id": "BuzDNR1g7Gxl",
        "outputId": "bf174b7a-5c0d-472d-a659-ea8c31a6de67"
      },
      "execution_count": 138,
      "outputs": [
        {
          "output_type": "stream",
          "name": "stdout",
          "text": [
            "Accuracy of model = 90.34199714660645%\n"
          ]
        }
      ]
    },
    {
      "cell_type": "markdown",
      "source": [
        "#Model with Different hyperparameters"
      ],
      "metadata": {
        "id": "cJ93aECHAq0F"
      }
    },
    {
      "cell_type": "code",
      "source": [
        "# # Hyperparameters\n",
        "# nr_epochs = 100\n",
        "# learning_rate = 1e-4\n",
        "\n",
        "# n_hidden1 = 512\n",
        "# n_hidden2 = 64"
      ],
      "metadata": {
        "id": "d6CvOS7wAqNw"
      },
      "execution_count": 139,
      "outputs": []
    },
    {
      "cell_type": "code",
      "source": [
        "# 1e-4"
      ],
      "metadata": {
        "id": "GN9FwUawBIta"
      },
      "execution_count": 140,
      "outputs": []
    },
    {
      "cell_type": "code",
      "source": [
        ""
      ],
      "metadata": {
        "id": "KbVYqfbMA8Ss"
      },
      "execution_count": 140,
      "outputs": []
    },
    {
      "cell_type": "code",
      "source": [
        ""
      ],
      "metadata": {
        "id": "peT3DGd0A8Pa"
      },
      "execution_count": 140,
      "outputs": []
    },
    {
      "cell_type": "code",
      "source": [
        ""
      ],
      "metadata": {
        "id": "BCECBC-UA8NN"
      },
      "execution_count": 140,
      "outputs": []
    },
    {
      "cell_type": "code",
      "source": [
        ""
      ],
      "metadata": {
        "id": "HwdhOew0A8Kp"
      },
      "execution_count": 140,
      "outputs": []
    },
    {
      "cell_type": "code",
      "source": [
        ""
      ],
      "metadata": {
        "id": "kIS2qdQTA8Ic"
      },
      "execution_count": 140,
      "outputs": []
    },
    {
      "cell_type": "code",
      "source": [
        ""
      ],
      "metadata": {
        "id": "oN0NqjttA8FH"
      },
      "execution_count": 140,
      "outputs": []
    },
    {
      "cell_type": "code",
      "source": [
        ""
      ],
      "metadata": {
        "id": "t2lBcZf0A7-O"
      },
      "execution_count": 140,
      "outputs": []
    },
    {
      "cell_type": "code",
      "source": [
        ""
      ],
      "metadata": {
        "id": "1HeTUlCRA7yP"
      },
      "execution_count": 140,
      "outputs": []
    },
    {
      "cell_type": "markdown",
      "metadata": {
        "id": "_VgLc013Dfqs"
      },
      "source": [
        "# Make a Prediction"
      ]
    },
    {
      "cell_type": "code",
      "execution_count": 141,
      "metadata": {
        "id": "LnXagPr7Dfqs",
        "colab": {
          "base_uri": "https://localhost:8080/",
          "height": 45
        },
        "outputId": "8913d571-be50-4bd7-b9a8-83e907553788"
      },
      "outputs": [
        {
          "output_type": "execute_result",
          "data": {
            "text/plain": [
              "<PIL.PngImagePlugin.PngImageFile image mode=RGBA size=28x28 at 0x7FE0F959BE10>"
            ],
            "image/png": "[encoded data removed]"
          },
          "metadata": {},
          "execution_count": 141
        }
      ],
      "source": [
        "img = Image.open('/content/drive/MyDrive/MNIST/test_img.png')\n",
        "img"
      ]
    },
    {
      "cell_type": "code",
      "execution_count": 142,
      "metadata": {
        "id": "CUFtz1GjDfqs"
      },
      "outputs": [],
      "source": [
        "bw = img.convert('L')"
      ]
    },
    {
      "cell_type": "code",
      "execution_count": 143,
      "metadata": {
        "collapsed": true,
        "id": "MBGKpPydDfqs"
      },
      "outputs": [],
      "source": [
        "img_array = np.invert(bw)"
      ]
    },
    {
      "cell_type": "code",
      "execution_count": 144,
      "metadata": {
        "id": "_9x0fO35Dfqt",
        "colab": {
          "base_uri": "https://localhost:8080/"
        },
        "outputId": "6cd12bcf-5c42-4a10-c76e-d19239e4ac94"
      },
      "outputs": [
        {
          "output_type": "execute_result",
          "data": {
            "text/plain": [
              "(28, 28)"
            ]
          },
          "metadata": {},
          "execution_count": 144
        }
      ],
      "source": [
        "img_array.shape"
      ]
    },
    {
      "cell_type": "code",
      "execution_count": 145,
      "metadata": {
        "collapsed": true,
        "id": "KxpelVMgDfqt"
      },
      "outputs": [],
      "source": [
        "test_img = img_array.ravel()"
      ]
    },
    {
      "cell_type": "code",
      "execution_count": 146,
      "metadata": {
        "id": "0K5uwultDfqt",
        "colab": {
          "base_uri": "https://localhost:8080/"
        },
        "outputId": "41b8dfa3-f8bb-41cc-a3e7-ee2463d2fd96"
      },
      "outputs": [
        {
          "output_type": "execute_result",
          "data": {
            "text/plain": [
              "(784,)"
            ]
          },
          "metadata": {},
          "execution_count": 146
        }
      ],
      "source": [
        "test_img.shape"
      ]
    },
    {
      "cell_type": "code",
      "source": [
        "img_array"
      ],
      "metadata": {
        "colab": {
          "base_uri": "https://localhost:8080/"
        },
        "id": "E0JPM3AO6gDA",
        "outputId": "33fdc7a0-80f8-43a7-d1f7-8a90c1d8cb21"
      },
      "execution_count": 147,
      "outputs": [
        {
          "output_type": "execute_result",
          "data": {
            "text/plain": [
              "array([[  0,   0,   0,   0,   0,   0,   0,   0,   0,   0,   0,   0,   0,\n",
              "          0,   0,   0,   0,   0,   0,   0,   0,   0,   0,   0,   0,   0,\n",
              "          0,   0],\n",
              "       [  0,   0,   0,   0,   0,   0,   0,   0,   0,   0,   0,   0,   0,\n",
              "          0,   0,   0,   0,   0,   0,   0,   0,   0,   0,   0,   0,   0,\n",
              "          0,   0],\n",
              "       [  0,   0,   0,   0,   0,   0,   0,   0,   0,   0,   0,   0,   0,\n",
              "          0,   0,   0,   0,   0,   0,   0,   0,   0,   0,   0,   0,   0,\n",
              "          0,   0],\n",
              "       [  0,   0,   0,   0,   0,   0,   0,   0,   0,   0,   0,   0,   0,\n",
              "          0,   0,   0,   0,   0,   0,   0,   0,   0,   0,   0,   0,   0,\n",
              "          0,   0],\n",
              "       [  0,   0,   0,   0,   0,   0,   0,   0,   0,   0,   0,   0,   0,\n",
              "        127, 127,   0,   0,   0,   0,   0,   0,   0,   0,   0,   0,   0,\n",
              "          0,   0],\n",
              "       [  0,   0,   0,   0,   0,   0,   0,   0,   0,   0, 127, 127, 190,\n",
              "        190, 190, 190,   0,   0,   0,   0,   0,   0,   0,   0,   0,   0,\n",
              "          0,   0],\n",
              "       [  0,   0,   0,   0,   0,   0,   0,   0,   0, 127, 190, 127, 127,\n",
              "          0,   0, 190, 127,   0,   0,   0,   0,   0,   0,   0,   0,   0,\n",
              "          0,   0],\n",
              "       [  0,   0,   0,   0,   0,   0,   0,   0,  15, 191,  15,   0,   0,\n",
              "          0,   0, 127, 190,   0,   0,   0,   0,   0,   0,   0,   0,   0,\n",
              "          0,   0],\n",
              "       [  0,   0,   0,   0,   0,   0,   0,   0,   0,  31,   0,   0,   0,\n",
              "          0,   0,   0, 190, 127,   0,   0,   0,   0,   0,   0,   0,   0,\n",
              "          0,   0],\n",
              "       [  0,   0,   0,   0,   0,   0,   0,   0,   0,   0,   0,   0,   0,\n",
              "          0,   0,   0, 127, 127,   0,   0,   0,   0,   0,   0,   0,   0,\n",
              "          0,   0],\n",
              "       [  0,   0,   0,   0,   0,   0,   0,   0,   0,   0,   0,   0,   0,\n",
              "          0,   0,   0, 127, 127,   0,   0,   0,   0,   0,   0,   0,   0,\n",
              "          0,   0],\n",
              "       [  0,   0,   0,   0,   0,   0,   0,   0,   0,   0,   0,   0,   0,\n",
              "          0,   0,   0, 127, 127,   0,   0,   0,   0,   0,   0,   0,   0,\n",
              "          0,   0],\n",
              "       [  0,   0,   0,   0,   0,   0,   0,   0,   0,   0,   0,   0,   0,\n",
              "          0,   0,  15, 191,  15,   0,   0,   0,   0,   0,   0,   0,   0,\n",
              "          0,   0],\n",
              "       [  0,   0,   0,   0,   0,   0,   0,   0,   0,   0,   0,   0,   0,\n",
              "          0, 127, 190, 142,   0,   0,   0,   0,   0,   0,   0,   0,   0,\n",
              "          0,   0],\n",
              "       [  0,   0,   0,   0,   0,   0,   0,   0,   0,   0,   0,   0,   0,\n",
              "        190, 190, 127,   0,   0,   0,   0,   0,   0,   0,   0,   0,   0,\n",
              "          0,   0],\n",
              "       [  0,   0,   0,   0,   0,   0,   0,   0,   0,   0,   0, 134, 191,\n",
              "        134,   0,   0,   0,   0,   0,   0,   0,   0,   0,   0,   0,   0,\n",
              "          0,   0],\n",
              "       [  0,   0,   0,   0,   0,   0,   0,   0,   0, 127, 190, 190,  31,\n",
              "          0,   0,   0,   0,   0,   0,   0,   0,   0,   0,   0,   0,   0,\n",
              "          0,   0],\n",
              "       [  0,   0,   0,   0,   0,   0,   0, 127, 190, 190, 127,   0,   0,\n",
              "          0,   0,   0,   0,   0,   0,   0,   0,   0,   0,   0,   0,   0,\n",
              "          0,   0],\n",
              "       [  0,   0,   0,   0,   0,   0, 127, 222, 190, 127, 127, 127, 127,\n",
              "        127, 127, 127, 127, 127, 127,   0,   0,   0,   0,   0,   0,   0,\n",
              "          0,   0],\n",
              "       [  0,   0,   0,   0,   0,   0,   0, 127, 127, 127, 127, 127, 127,\n",
              "        127, 127, 127, 127, 127, 190, 190,   0,   0,   0,   0,   0,   0,\n",
              "          0,   0],\n",
              "       [  0,   0,   0,   0,   0,   0,   0,   0,   0,   0,   0,   0,   0,\n",
              "          0,   0,   0,   0,   0,   0, 127,   0,   0,   0,   0,   0,   0,\n",
              "          0,   0],\n",
              "       [  0,   0,   0,   0,   0,   0,   0,   0,   0,   0,   0,   0,   0,\n",
              "          0,   0,   0,   0,   0,   0,   0,   0,   0,   0,   0,   0,   0,\n",
              "          0,   0],\n",
              "       [  0,   0,   0,   0,   0,   0,   0,   0,   0,   0,   0,   0,   0,\n",
              "          0,   0,   0,   0,   0,   0,   0,   0,   0,   0,   0,   0,   0,\n",
              "          0,   0],\n",
              "       [  0,   0,   0,   0,   0,   0,   0,   0,   0,   0,   0,   0,   0,\n",
              "          0,   0,   0,   0,   0,   0,   0,   0,   0,   0,   0,   0,   0,\n",
              "          0,   0],\n",
              "       [  0,   0,   0,   0,   0,   0,   0,   0,   0,   0,   0,   0,   0,\n",
              "          0,   0,   0,   0,   0,   0,   0,   0,   0,   0,   0,   0,   0,\n",
              "          0,   0],\n",
              "       [  0,   0,   0,   0,   0,   0,   0,   0,   0,   0,   0,   0,   0,\n",
              "          0,   0,   0,   0,   0,   0,   0,   0,   0,   0,   0,   0,   0,\n",
              "          0,   0],\n",
              "       [  0,   0,   0,   0,   0,   0,   0,   0,   0,   0,   0,   0,   0,\n",
              "          0,   0,   0,   0,   0,   0,   0,   0,   0,   0,   0,   0,   0,\n",
              "          0,   0],\n",
              "       [  0,   0,   0,   0,   0,   0,   0,   0,   0,   0,   0,   0,   0,\n",
              "          0,   0,   0,   0,   0,   0,   0,   0,   0,   0,   0,   0,   0,\n",
              "          0,   0]], dtype=uint8)"
            ]
          },
          "metadata": {},
          "execution_count": 147
        }
      ]
    },
    {
      "cell_type": "code",
      "execution_count": 148,
      "metadata": {
        "collapsed": true,
        "id": "57f4ytRPDfqu"
      },
      "outputs": [],
      "source": [
        "prediction = sess.run(fetches=tf.argmax(output, axis=1), feed_dict={X:[test_img]})"
      ]
    },
    {
      "cell_type": "code",
      "execution_count": 149,
      "metadata": {
        "id": "QGPwp9akDfqu",
        "colab": {
          "base_uri": "https://localhost:8080/"
        },
        "outputId": "ca08603b-af17-480c-8ae0-85ad0aaf44b6"
      },
      "outputs": [
        {
          "output_type": "stream",
          "name": "stdout",
          "text": [
            "Prediction for test image is [2]\n"
          ]
        }
      ],
      "source": [
        "print(f'Prediction for test image is {prediction}')"
      ]
    },
    {
      "cell_type": "markdown",
      "metadata": {
        "id": "CJbjgYIrDfqu"
      },
      "source": [
        "# Testing and Evaluation"
      ]
    },
    {
      "cell_type": "code",
      "execution_count": 150,
      "metadata": {
        "id": "V0os9IgpDfqu",
        "colab": {
          "base_uri": "https://localhost:8080/"
        },
        "outputId": "1feacf49-7dba-41b8-e99c-10b45f311d3b"
      },
      "outputs": [
        {
          "output_type": "stream",
          "name": "stdout",
          "text": [
            "Accuracy on test set is 95.65%\n"
          ]
        }
      ],
      "source": [
        "test_accuracy = sess.run(fetches=accuracy, feed_dict={X:x_testing, Y:y_testing})\n",
        "print(f'Accuracy on test set is {test_accuracy:0.2%}')"
      ]
    },
    {
      "cell_type": "markdown",
      "source": [
        "##Prediction 2"
      ],
      "metadata": {
        "id": "kMJw1_vvwvnn"
      }
    },
    {
      "cell_type": "code",
      "source": [
        "img = Image.open('/content/drive/MyDrive/MNIST/test_img_4.png')\n",
        "img"
      ],
      "metadata": {
        "colab": {
          "base_uri": "https://localhost:8080/",
          "height": 45
        },
        "id": "OUdm3cq9wzC1",
        "outputId": "b2e69004-d6fe-48ef-db32-935be2b2c709"
      },
      "execution_count": 151,
      "outputs": [
        {
          "output_type": "execute_result",
          "data": {
            "text/plain": [
              "<PIL.PngImagePlugin.PngImageFile image mode=L size=28x28 at 0x7FE0F95917D0>"
            ],
            "image/png": "[encoded data removed]"
          },
          "metadata": {},
          "execution_count": 151
        }
      ]
    },
    {
      "cell_type": "code",
      "source": [
        "bw = img.convert('L')"
      ],
      "metadata": {
        "id": "pZwHxAWsw7q2"
      },
      "execution_count": 152,
      "outputs": []
    },
    {
      "cell_type": "code",
      "source": [
        "img_array = np.invert(bw)"
      ],
      "metadata": {
        "id": "S-I69lsPw7ni"
      },
      "execution_count": 153,
      "outputs": []
    },
    {
      "cell_type": "code",
      "source": [
        "img_array.shape"
      ],
      "metadata": {
        "colab": {
          "base_uri": "https://localhost:8080/"
        },
        "id": "ZF6gpXwkw7kt",
        "outputId": "edcede3d-741c-4fbc-c471-6962fc441566"
      },
      "execution_count": 154,
      "outputs": [
        {
          "output_type": "execute_result",
          "data": {
            "text/plain": [
              "(28, 28)"
            ]
          },
          "metadata": {},
          "execution_count": 154
        }
      ]
    },
    {
      "cell_type": "code",
      "source": [
        "test_img = img_array.ravel()"
      ],
      "metadata": {
        "id": "EVtI71zTw7iQ"
      },
      "execution_count": 155,
      "outputs": []
    },
    {
      "cell_type": "code",
      "source": [
        "test_img.shape"
      ],
      "metadata": {
        "colab": {
          "base_uri": "https://localhost:8080/"
        },
        "id": "VVRc7sJBw7Vh",
        "outputId": "79b8ec7a-06d9-41b1-ab18-395f08118c62"
      },
      "execution_count": 156,
      "outputs": [
        {
          "output_type": "execute_result",
          "data": {
            "text/plain": [
              "(784,)"
            ]
          },
          "metadata": {},
          "execution_count": 156
        }
      ]
    },
    {
      "cell_type": "code",
      "source": [
        "img_array"
      ],
      "metadata": {
        "colab": {
          "base_uri": "https://localhost:8080/"
        },
        "id": "UrtnFN0JxG7c",
        "outputId": "0e567380-50bc-4920-d76c-a96a33448a53"
      },
      "execution_count": 157,
      "outputs": [
        {
          "output_type": "execute_result",
          "data": {
            "text/plain": [
              "array([[  0,   0,   0,   0,   0,   0,   0,   0,   0,   0,   0,   0,   0,\n",
              "          0,   0,   0,   0,   0,   0,   0,   0,   0,   0,   0,   0,   0,\n",
              "          0,   0],\n",
              "       [  0,   0,   0,   0,   0,   0,   0,   0,   0,   0,   0,   0,   0,\n",
              "          0,   0,   0,   0,   0,   0,   0,   0,   0,   0,   0,   0,   0,\n",
              "          0,   0],\n",
              "       [  0,   0,   0,   0,   0,   0,   0,   0,   1,   0,   1,   2,   1,\n",
              "          0,   1,   0,   1,   0,   1,   1,   1,   1,   0,   0,   0,   0,\n",
              "          0,   0],\n",
              "       [  0,   0,   0,   0,   0,   0,   0,   0,   0,   1,   0,   0,   0,\n",
              "          0,   0,   0,   0,   0,   0,   0,   1,   1,   0,   1,   0,   0,\n",
              "          0,   0],\n",
              "       [  0,   0,   0,   0,   0,   0,   0,   1,   1,   0,   8,  22,   5,\n",
              "          0,   1,   0,   1,   0,   1,   5,   1,   0,   1,   0,   0,   0,\n",
              "          0,   0],\n",
              "       [  0,   0,   0,   0,   0,   0,   0,   1,   1,   1,  68, 161,  29,\n",
              "          0,   2,   0,   1,   0,  10,  62,  42,   4,   0,   1,   0,   0,\n",
              "          0,   0],\n",
              "       [  0,   0,   0,   0,   0,   0,   0,   1,   1,  10, 129, 203,  33,\n",
              "          0,   2,   0,   1,   0,  15, 128, 141,  20,   0,   1,   0,   0,\n",
              "          0,   0],\n",
              "       [  0,   0,   0,   0,   0,   0,   1,   2,   0,  25, 184, 200,  27,\n",
              "          0,   2,   0,   1,   0,   8, 111, 183,  36,   0,   2,   1,   0,\n",
              "          0,   0],\n",
              "       [  0,   0,   0,   0,   1,   0,   1,   1,   6,  93, 223, 135,  11,\n",
              "          0,   1,   1,   1,   1,   9, 126, 212,  47,   0,   2,   1,   0,\n",
              "          0,   0],\n",
              "       [  0,   0,   0,   0,   0,   1,   1,   1,  64, 208, 192,  38,   0,\n",
              "          1,   1,   0,   2,   1,  19, 183, 228,  47,   0,   2,   1,   0,\n",
              "          0,   0],\n",
              "       [  0,   0,   0,   0,   1,   1,   0,  22, 161, 226,  80,   2,   1,\n",
              "          1,   0,   1,   2,   0,  49, 230, 228,  42,   1,   2,   1,   0,\n",
              "          0,   0],\n",
              "       [  0,   0,   0,   0,   1,   1,   6,  91, 226, 190,  24,   1,   2,\n",
              "          0,   0,   1,   0,  13, 136, 244, 175,  24,   0,   2,   1,   0,\n",
              "          0,   0],\n",
              "       [  0,   0,   0,   0,   2,   0,  18, 163, 238, 112,   8,   1,   1,\n",
              "          1,   1,   1,   1,  55, 215, 233,  82,   4,   1,   1,   0,   0,\n",
              "          0,   0],\n",
              "       [  0,   0,   0,   1,   2,   1,  35, 211, 220,  37,   1,   2,   1,\n",
              "          1,   2,   1,  12, 125, 244, 196,  28,   0,   2,   1,   0,   0,\n",
              "          0,   0],\n",
              "       [  0,   0,   0,   1,   2,   0,  45, 219, 171,  14,   0,   1,   0,\n",
              "          0,   0,   0,  17, 167, 245, 156,  17,   1,   2,   0,   0,   0,\n",
              "          0,   0],\n",
              "       [  0,   0,   0,   1,   2,   1,  31, 193, 196,  49,   4,   5,   4,\n",
              "          5,  12,  14,  58, 223, 244, 117,  11,   1,   1,   0,   0,   0,\n",
              "          0,   0],\n",
              "       [  0,   0,   0,   0,   1,   0,  17, 151, 238, 188, 107,  97,  99,\n",
              "        102, 133, 159, 190, 250, 239, 101,   7,   0,   1,   0,   0,   0,\n",
              "          0,   0],\n",
              "       [  0,   0,   0,   0,   1,   1,   4,  55, 158, 221, 222, 219, 221,\n",
              "        218, 201, 206, 237, 255, 225,  44,   0,   2,   1,   0,   0,   0,\n",
              "          0,   0],\n",
              "       [  0,   0,   0,   0,   1,   1,   0,   3,  21,  64,  96,  98, 100,\n",
              "         91,  36,  42, 160, 253, 223,  35,   1,   2,   1,   0,   0,   0,\n",
              "          0,   0],\n",
              "       [  0,   0,   0,   0,   0,   0,   1,   0,   0,   0,   4,   4,   5,\n",
              "          3,   0,   6, 125, 248, 230,  56,   1,   1,   1,   0,   0,   0,\n",
              "          0,   0],\n",
              "       [  0,   0,   0,   0,   0,   0,   0,   1,   2,   1,   0,   0,   0,\n",
              "          1,   2,  14, 127, 248, 225,  36,   0,   2,   1,   0,   0,   0,\n",
              "          0,   0],\n",
              "       [  0,   0,   0,   0,   0,   0,   0,   0,   1,   1,   1,   1,   1,\n",
              "          2,   1,  12, 124, 247, 225,  31,   0,   2,   0,   0,   0,   0,\n",
              "          0,   0],\n",
              "       [  0,   0,   0,   0,   0,   0,   0,   0,   0,   0,   0,   0,   0,\n",
              "          1,   0,  15, 140, 252, 210,  28,   1,   2,   0,   0,   0,   0,\n",
              "          0,   0],\n",
              "       [  0,   0,   0,   0,   0,   0,   0,   0,   0,   0,   0,   0,   0,\n",
              "          2,   0,  27, 199, 220, 111,  11,   0,   1,   0,   0,   0,   0,\n",
              "          0,   0],\n",
              "       [  0,   0,   0,   0,   0,   0,   0,   0,   0,   0,   0,   0,   0,\n",
              "          2,   0,  24, 141,  86,  12,   1,   1,   1,   0,   0,   0,   0,\n",
              "          0,   0],\n",
              "       [  0,   0,   0,   0,   0,   0,   0,   0,   0,   0,   0,   0,   0,\n",
              "          1,   0,   3,  16,   5,   0,   1,   1,   0,   0,   0,   0,   0,\n",
              "          0,   0],\n",
              "       [  0,   0,   0,   0,   0,   0,   0,   0,   0,   0,   0,   0,   0,\n",
              "          0,   0,   0,   0,   0,   1,   1,   0,   1,   0,   0,   0,   0,\n",
              "          0,   0],\n",
              "       [  0,   0,   0,   0,   0,   0,   0,   0,   0,   0,   0,   0,   0,\n",
              "          1,   0,   1,   1,   1,   1,   0,   0,   0,   0,   0,   0,   0,\n",
              "          0,   0]], dtype=uint8)"
            ]
          },
          "metadata": {},
          "execution_count": 157
        }
      ]
    },
    {
      "cell_type": "code",
      "source": [
        "prediction = sess.run(fetches=tf.argmax(output, axis=1), feed_dict={X:[test_img]})"
      ],
      "metadata": {
        "id": "iilnfSifxLWg"
      },
      "execution_count": 158,
      "outputs": []
    },
    {
      "cell_type": "code",
      "source": [
        "print(f'Prediction for test image is {prediction}')"
      ],
      "metadata": {
        "colab": {
          "base_uri": "https://localhost:8080/"
        },
        "id": "ZJmbe6UIxMJb",
        "outputId": "24e20dde-7645-48fd-ffe5-73c0fea84183"
      },
      "execution_count": 159,
      "outputs": [
        {
          "output_type": "stream",
          "name": "stdout",
          "text": [
            "Prediction for test image is [4]\n"
          ]
        }
      ]
    },
    {
      "cell_type": "markdown",
      "metadata": {
        "collapsed": true,
        "id": "iZC7o_UKDfqv"
      },
      "source": [
        "# Reset for the Next Run"
      ]
    },
    {
      "cell_type": "code",
      "execution_count": 160,
      "metadata": {
        "collapsed": true,
        "id": "7JkuDdV3Dfqv"
      },
      "outputs": [],
      "source": [
        "train_writer.close()\n",
        "validation_writer.close()\n",
        "sess.close()\n",
        "tf.reset_default_graph()"
      ]
    },
    {
      "cell_type": "code",
      "execution_count": 160,
      "metadata": {
        "collapsed": true,
        "id": "8Nn-_lylDfqv"
      },
      "outputs": [],
      "source": [
        ""
      ]
    },
    {
      "cell_type": "code",
      "source": [
        "def print_Function():\n",
        "    print('Hello World')\n"
      ],
      "metadata": {
        "id": "vCouMMT_4dXt"
      },
      "execution_count": 161,
      "outputs": []
    },
    {
      "cell_type": "code",
      "source": [
        "print_Function()"
      ],
      "metadata": {
        "id": "gL1FAXkM4yFk",
        "colab": {
          "base_uri": "https://localhost:8080/"
        },
        "outputId": "54b42632-86b7-4660-fa54-a57e97c2cdfe"
      },
      "execution_count": 162,
      "outputs": [
        {
          "output_type": "stream",
          "name": "stdout",
          "text": [
            "Hello World\n"
          ]
        }
      ]
    },
    {
      "cell_type": "code",
      "source": [
        "def predict_test_image():\n",
        "  print('The Result is: __')"
      ],
      "metadata": {
        "id": "g0wTMvNA423c"
      },
      "execution_count": 163,
      "outputs": []
    }
  ],
  "metadata": {
    "kernelspec": {
      "display_name": "Python 3",
      "language": "python",
      "name": "python3"
    },
    "language_info": {
      "codemirror_mode": {
        "name": "ipython",
        "version": 3
      },
      "file_extension": ".py",
      "mimetype": "text/x-python",
      "name": "python",
      "nbconvert_exporter": "python",
      "pygments_lexer": "ipython3",
      "version": "3.6.1"
    },
    "colab": {
      "name": "Semester Project Machine Learning.ipynb",
      "provenance": [],
      "collapsed_sections": []
    }
  },
  "nbformat": 4,
  "nbformat_minor": 0
}